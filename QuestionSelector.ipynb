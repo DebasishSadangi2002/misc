{
  "nbformat": 4,
  "nbformat_minor": 0,
  "metadata": {
    "colab": {
      "provenance": [],
      "authorship_tag": "ABX9TyOJAltBelIcuKvsDbXsfA2l",
      "include_colab_link": true
    },
    "kernelspec": {
      "name": "python3",
      "display_name": "Python 3"
    },
    "language_info": {
      "name": "python"
    }
  },
  "cells": [
    {
      "cell_type": "markdown",
      "metadata": {
        "id": "view-in-github",
        "colab_type": "text"
      },
      "source": [
        "<a href=\"https://colab.research.google.com/github/DebasishSadangi2002/misc/blob/main/QuestionSelector.ipynb\" target=\"_parent\"><img src=\"https://colab.research.google.com/assets/colab-badge.svg\" alt=\"Open In Colab\"/></a>"
      ]
    },
    {
      "cell_type": "code",
      "source": [
        "import random\n",
        "def generate_unique_random_numbers(count, min_number, max_number):\n",
        "\n",
        "  if count > (max_number - min_number + 1):\n",
        "    raise ValueError(\"Count cannot be greater than the range of numbers.\")\n",
        "  random_numbers = set()\n",
        "  while len(random_numbers) < count:\n",
        "    random_numbers.add(random.randint(min_number, max_number))\n",
        "  a =  (list(random_numbers))\n",
        "  a.sort()\n",
        "  return a\n",
        "k = int(input(\"Enter the number of sections: \"))\n",
        "values = []\n",
        "for i in range(k):\n",
        "  n = int(input(\"Enter the number of questions in section \"+str(i+1)+\": \"))\n",
        "  values.append(n)\n",
        "a = sum(values)\n",
        "weight = []\n",
        "for i in values:\n",
        "  p = (i/a)*50\n",
        "  weight.append(int(p))\n",
        "for i,j in zip(values,weight):\n",
        "  print(generate_unique_random_numbers(j,1,i))\n",
        "\n",
        "\n"
      ],
      "metadata": {
        "colab": {
          "base_uri": "https://localhost:8080/"
        },
        "id": "zQERddi0uQN0",
        "outputId": "9823c64b-459f-498d-cf99-9d901e772b66"
      },
      "execution_count": 32,
      "outputs": [
        {
          "output_type": "stream",
          "name": "stdout",
          "text": [
            "Enter the number of sections: 6\n",
            "Enter the number of questions in section 1: 30\n",
            "Enter the number of questions in section 2: 51\n",
            "Enter the number of questions in section 3: 25\n",
            "Enter the number of questions in section 4: 15\n",
            "Enter the number of questions in section 5: 31\n",
            "Enter the number of questions in section 6: 8\n",
            "[2, 6, 7, 13, 15, 23, 25, 27, 29]\n",
            "[9, 12, 15, 19, 21, 22, 27, 30, 31, 37, 40, 42, 43, 44, 51]\n",
            "[7, 11, 13, 16, 20, 21, 23]\n",
            "[3, 4, 6, 13]\n",
            "[1, 15, 16, 17, 19, 21, 24, 27, 30]\n",
            "[2, 6]\n"
          ]
        }
      ]
    }
  ]
}